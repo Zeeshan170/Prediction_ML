{
 "cells": [
  {
   "cell_type": "code",
   "execution_count": 1,
   "id": "87cfcdbc",
   "metadata": {},
   "outputs": [],
   "source": [
    "import numpy as np\n",
    "import tensorflow as tf\n",
    "from tensorflow import keras\n",
    "import pandas as pd\n",
    "from matplotlib import pyplot as plt\n",
    "%matplotlib inline"
   ]
  },
  {
   "cell_type": "code",
   "execution_count": 6,
   "id": "229fdb96",
   "metadata": {
    "scrolled": false
   },
   "outputs": [
    {
     "data": {
      "text/html": [
       "<div>\n",
       "<style scoped>\n",
       "    .dataframe tbody tr th:only-of-type {\n",
       "        vertical-align: middle;\n",
       "    }\n",
       "\n",
       "    .dataframe tbody tr th {\n",
       "        vertical-align: top;\n",
       "    }\n",
       "\n",
       "    .dataframe thead th {\n",
       "        text-align: right;\n",
       "    }\n",
       "</style>\n",
       "<table border=\"1\" class=\"dataframe\">\n",
       "  <thead>\n",
       "    <tr style=\"text-align: right;\">\n",
       "      <th></th>\n",
       "      <th>age</th>\n",
       "      <th>affordibility</th>\n",
       "      <th>bought_insurance</th>\n",
       "    </tr>\n",
       "  </thead>\n",
       "  <tbody>\n",
       "    <tr>\n",
       "      <th>0</th>\n",
       "      <td>22</td>\n",
       "      <td>1</td>\n",
       "      <td>0</td>\n",
       "    </tr>\n",
       "    <tr>\n",
       "      <th>1</th>\n",
       "      <td>25</td>\n",
       "      <td>0</td>\n",
       "      <td>0</td>\n",
       "    </tr>\n",
       "    <tr>\n",
       "      <th>2</th>\n",
       "      <td>47</td>\n",
       "      <td>1</td>\n",
       "      <td>1</td>\n",
       "    </tr>\n",
       "    <tr>\n",
       "      <th>3</th>\n",
       "      <td>52</td>\n",
       "      <td>0</td>\n",
       "      <td>0</td>\n",
       "    </tr>\n",
       "    <tr>\n",
       "      <th>4</th>\n",
       "      <td>46</td>\n",
       "      <td>1</td>\n",
       "      <td>1</td>\n",
       "    </tr>\n",
       "  </tbody>\n",
       "</table>\n",
       "</div>"
      ],
      "text/plain": [
       "   age  affordibility  bought_insurance\n",
       "0   22              1                 0\n",
       "1   25              0                 0\n",
       "2   47              1                 1\n",
       "3   52              0                 0\n",
       "4   46              1                 1"
      ]
     },
     "execution_count": 6,
     "metadata": {},
     "output_type": "execute_result"
    }
   ],
   "source": [
    "df = pd.read_csv(r\"C:\\Users\\muham\\Downloads\\insurance_data.csv\")\n",
    "df.head()"
   ]
  },
  {
   "cell_type": "code",
   "execution_count": 7,
   "id": "6bc96840",
   "metadata": {},
   "outputs": [],
   "source": [
    "from sklearn.model_selection import train_test_split\n",
    "X_train, X_test, y_train, y_test = train_test_split(df[['age','affordibility']],df.bought_insurance,test_size=0.2, random_state=25)"
   ]
  },
  {
   "cell_type": "code",
   "execution_count": 8,
   "id": "e949e935",
   "metadata": {},
   "outputs": [],
   "source": [
    "X_train_scaled = X_train.copy()\n",
    "X_train_scaled['age'] = X_train_scaled['age'] / 100\n",
    "\n",
    "X_test_scaled = X_test.copy()\n",
    "X_test_scaled['age'] = X_test_scaled['age'] / 100"
   ]
  },
  {
   "cell_type": "code",
   "execution_count": 9,
   "id": "a64af324",
   "metadata": {},
   "outputs": [
    {
     "name": "stdout",
     "output_type": "stream",
     "text": [
      "Epoch 1/50\n",
      "1/1 [==============================] - 4s 4s/step - loss: 0.7113 - accuracy: 0.5000\n",
      "Epoch 2/50\n",
      "1/1 [==============================] - 0s 25ms/step - loss: 0.7110 - accuracy: 0.5000\n",
      "Epoch 3/50\n",
      "1/1 [==============================] - 0s 31ms/step - loss: 0.7106 - accuracy: 0.5000\n",
      "Epoch 4/50\n",
      "1/1 [==============================] - 0s 19ms/step - loss: 0.7102 - accuracy: 0.5000\n",
      "Epoch 5/50\n",
      "1/1 [==============================] - 0s 24ms/step - loss: 0.7098 - accuracy: 0.5000\n",
      "Epoch 6/50\n",
      "1/1 [==============================] - 0s 31ms/step - loss: 0.7094 - accuracy: 0.5000\n",
      "Epoch 7/50\n",
      "1/1 [==============================] - 0s 28ms/step - loss: 0.7091 - accuracy: 0.5000\n",
      "Epoch 8/50\n",
      "1/1 [==============================] - 0s 27ms/step - loss: 0.7087 - accuracy: 0.5000\n",
      "Epoch 9/50\n",
      "1/1 [==============================] - 0s 30ms/step - loss: 0.7083 - accuracy: 0.5000\n",
      "Epoch 10/50\n",
      "1/1 [==============================] - 0s 29ms/step - loss: 0.7079 - accuracy: 0.5000\n",
      "Epoch 11/50\n",
      "1/1 [==============================] - 0s 32ms/step - loss: 0.7076 - accuracy: 0.5000\n",
      "Epoch 12/50\n",
      "1/1 [==============================] - 0s 16ms/step - loss: 0.7072 - accuracy: 0.5000\n",
      "Epoch 13/50\n",
      "1/1 [==============================] - 0s 26ms/step - loss: 0.7068 - accuracy: 0.5000\n",
      "Epoch 14/50\n",
      "1/1 [==============================] - 0s 31ms/step - loss: 0.7065 - accuracy: 0.5000\n",
      "Epoch 15/50\n",
      "1/1 [==============================] - 0s 21ms/step - loss: 0.7061 - accuracy: 0.5000\n",
      "Epoch 16/50\n",
      "1/1 [==============================] - 0s 23ms/step - loss: 0.7057 - accuracy: 0.5000\n",
      "Epoch 17/50\n",
      "1/1 [==============================] - 0s 29ms/step - loss: 0.7054 - accuracy: 0.5000\n",
      "Epoch 18/50\n",
      "1/1 [==============================] - 0s 30ms/step - loss: 0.7050 - accuracy: 0.5000\n",
      "Epoch 19/50\n",
      "1/1 [==============================] - 0s 19ms/step - loss: 0.7046 - accuracy: 0.5000\n",
      "Epoch 20/50\n",
      "1/1 [==============================] - 0s 26ms/step - loss: 0.7043 - accuracy: 0.5000\n",
      "Epoch 21/50\n",
      "1/1 [==============================] - 0s 28ms/step - loss: 0.7039 - accuracy: 0.5000\n",
      "Epoch 22/50\n",
      "1/1 [==============================] - 0s 17ms/step - loss: 0.7035 - accuracy: 0.5000\n",
      "Epoch 23/50\n",
      "1/1 [==============================] - 0s 22ms/step - loss: 0.7032 - accuracy: 0.5000\n",
      "Epoch 24/50\n",
      "1/1 [==============================] - 0s 18ms/step - loss: 0.7028 - accuracy: 0.5000\n",
      "Epoch 25/50\n",
      "1/1 [==============================] - 0s 14ms/step - loss: 0.7025 - accuracy: 0.5000\n",
      "Epoch 26/50\n",
      "1/1 [==============================] - 0s 16ms/step - loss: 0.7021 - accuracy: 0.5000\n",
      "Epoch 27/50\n",
      "1/1 [==============================] - 0s 20ms/step - loss: 0.7017 - accuracy: 0.5000\n",
      "Epoch 28/50\n",
      "1/1 [==============================] - 0s 18ms/step - loss: 0.7014 - accuracy: 0.5000\n",
      "Epoch 29/50\n",
      "1/1 [==============================] - 0s 25ms/step - loss: 0.7010 - accuracy: 0.5000\n",
      "Epoch 30/50\n",
      "1/1 [==============================] - 0s 27ms/step - loss: 0.7007 - accuracy: 0.5000\n",
      "Epoch 31/50\n",
      "1/1 [==============================] - 0s 24ms/step - loss: 0.7003 - accuracy: 0.5000\n",
      "Epoch 32/50\n",
      "1/1 [==============================] - 0s 31ms/step - loss: 0.7000 - accuracy: 0.5000\n",
      "Epoch 33/50\n",
      "1/1 [==============================] - 0s 29ms/step - loss: 0.6996 - accuracy: 0.5000\n",
      "Epoch 34/50\n",
      "1/1 [==============================] - 0s 32ms/step - loss: 0.6993 - accuracy: 0.5000\n",
      "Epoch 35/50\n",
      "1/1 [==============================] - 0s 16ms/step - loss: 0.6989 - accuracy: 0.5000\n",
      "Epoch 36/50\n",
      "1/1 [==============================] - 0s 21ms/step - loss: 0.6986 - accuracy: 0.5000\n",
      "Epoch 37/50\n",
      "1/1 [==============================] - 0s 24ms/step - loss: 0.6982 - accuracy: 0.5000\n",
      "Epoch 38/50\n",
      "1/1 [==============================] - 0s 19ms/step - loss: 0.6979 - accuracy: 0.5000\n",
      "Epoch 39/50\n",
      "1/1 [==============================] - 0s 14ms/step - loss: 0.6975 - accuracy: 0.5000\n",
      "Epoch 40/50\n",
      "1/1 [==============================] - 0s 24ms/step - loss: 0.6972 - accuracy: 0.5000\n",
      "Epoch 41/50\n",
      "1/1 [==============================] - 0s 19ms/step - loss: 0.6969 - accuracy: 0.5000\n",
      "Epoch 42/50\n",
      "1/1 [==============================] - 0s 18ms/step - loss: 0.6965 - accuracy: 0.5000\n",
      "Epoch 43/50\n",
      "1/1 [==============================] - 0s 19ms/step - loss: 0.6962 - accuracy: 0.5000\n",
      "Epoch 44/50\n",
      "1/1 [==============================] - 0s 23ms/step - loss: 0.6958 - accuracy: 0.5000\n",
      "Epoch 45/50\n",
      "1/1 [==============================] - 0s 29ms/step - loss: 0.6955 - accuracy: 0.5000\n",
      "Epoch 46/50\n",
      "1/1 [==============================] - 0s 24ms/step - loss: 0.6952 - accuracy: 0.5000\n",
      "Epoch 47/50\n",
      "1/1 [==============================] - 0s 25ms/step - loss: 0.6948 - accuracy: 0.5000\n",
      "Epoch 48/50\n",
      "1/1 [==============================] - 0s 18ms/step - loss: 0.6945 - accuracy: 0.5000\n",
      "Epoch 49/50\n",
      "1/1 [==============================] - 0s 18ms/step - loss: 0.6942 - accuracy: 0.5000\n",
      "Epoch 50/50\n",
      "1/1 [==============================] - 0s 21ms/step - loss: 0.6938 - accuracy: 0.5000\n"
     ]
    },
    {
     "data": {
      "text/plain": [
       "<keras.callbacks.History at 0x1905171aec0>"
      ]
     },
     "execution_count": 9,
     "metadata": {},
     "output_type": "execute_result"
    }
   ],
   "source": [
    "model = keras.Sequential([\n",
    "    keras.layers.Dense(1, input_shape=(2,), activation='sigmoid', kernel_initializer='ones', bias_initializer='zeros')\n",
    "])\n",
    "\n",
    "model.compile(optimizer='adam',\n",
    "              loss='binary_crossentropy',\n",
    "              metrics=['accuracy'])\n",
    "\n",
    "model.fit(X_train_scaled, y_train, epochs=50)"
   ]
  },
  {
   "cell_type": "code",
   "execution_count": 10,
   "id": "266f6b00",
   "metadata": {},
   "outputs": [],
   "source": [
    "import numpy as np\n",
    "\n",
    "input_data = np.array([[45, 0.8]])\n",
    "\n",
    "# Scale the input data\n",
    "input_data_scaled = input_data.copy()\n",
    "input_data_scaled[:, 0] = input_data_scaled[:, 0] / 100"
   ]
  },
  {
   "cell_type": "code",
   "execution_count": 11,
   "id": "1ccb335d",
   "metadata": {},
   "outputs": [
    {
     "name": "stdout",
     "output_type": "stream",
     "text": [
      "1/1 [==============================] - 3s 3s/step\n",
      "Prediction: [[0.75750184]]\n"
     ]
    }
   ],
   "source": [
    "prediction = model.predict(input_data_scaled)\n",
    "\n",
    "# Print the prediction\n",
    "print(\"Prediction:\", prediction)"
   ]
  },
  {
   "cell_type": "code",
   "execution_count": 12,
   "id": "d5016b77",
   "metadata": {},
   "outputs": [
    {
     "name": "stdout",
     "output_type": "stream",
     "text": [
      "1/1 [==============================] - 0s 46ms/step\n",
      "Prediction: [[0.75750184]]\n",
      "Predicted class: [[1]]\n"
     ]
    }
   ],
   "source": [
    "import numpy as np\n",
    "import keras\n",
    "\n",
    "# Assuming the model is already trained and X_train_scaled is available\n",
    "\n",
    "# Example input: age = 45, affordibility = 0.8\n",
    "input_data = np.array([[45, 0.8]])\n",
    "\n",
    "# Scale the input data\n",
    "input_data_scaled = input_data.copy()\n",
    "input_data_scaled[:, 0] = input_data_scaled[:, 0] / 100\n",
    "\n",
    "# Make the prediction\n",
    "prediction = model.predict(input_data_scaled)\n",
    "\n",
    "# Print the prediction\n",
    "print(\"Prediction:\", prediction)\n",
    "\n",
    "# Threshold the prediction to get a binary output if needed\n",
    "predicted_class = (prediction > 0.5).astype(int)\n",
    "print(\"Predicted class:\", predicted_class)"
   ]
  },
  {
   "cell_type": "code",
   "execution_count": null,
   "id": "b4df82e8",
   "metadata": {},
   "outputs": [],
   "source": []
  }
 ],
 "metadata": {
  "kernelspec": {
   "display_name": "Python 3 (ipykernel)",
   "language": "python",
   "name": "python3"
  },
  "language_info": {
   "codemirror_mode": {
    "name": "ipython",
    "version": 3
   },
   "file_extension": ".py",
   "mimetype": "text/x-python",
   "name": "python",
   "nbconvert_exporter": "python",
   "pygments_lexer": "ipython3",
   "version": "3.10.9"
  }
 },
 "nbformat": 4,
 "nbformat_minor": 5
}
